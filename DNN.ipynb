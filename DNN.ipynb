{
 "cells": [
  {
   "cell_type": "code",
   "execution_count": 60,
   "id": "eb1c84b6",
   "metadata": {},
   "outputs": [],
   "source": [
    "import pandas as pd"
   ]
  },
  {
   "cell_type": "code",
   "execution_count": 61,
   "id": "f81417e6",
   "metadata": {},
   "outputs": [
    {
     "data": {
      "text/plain": [
       "Index(['communityName', 'state', 'countyCode', 'communityCode', 'population',\n",
       "       'householdsize', 'racepctblack', 'racePctWhite', 'racePctAsian',\n",
       "       'racePctHisp',\n",
       "       ...\n",
       "       'burglaries', 'burglPerPop', 'larcenies', 'larcPerPop', 'autoTheft',\n",
       "       'autoTheftPerPop', 'arsons', 'arsonsPerPop', 'ViolentCrimesPerPop',\n",
       "       'nonViolPerPop'],\n",
       "      dtype='object', length=146)"
      ]
     },
     "execution_count": 61,
     "metadata": {},
     "output_type": "execute_result"
    }
   ],
   "source": [
    "df = pd.read_csv('crimedata.csv')\n",
    "df.columns"
   ]
  },
  {
   "cell_type": "code",
   "execution_count": 62,
   "id": "f5dba12a",
   "metadata": {},
   "outputs": [],
   "source": [
    "feature_names = [\"racepctblack\", \"racePctWhite\", \"medIncome\"]\n",
    "updated_df = df.dropna(subset=['ViolentCrimesPerPop'])\n",
    "\n",
    "X = updated_df[feature_names]\n",
    "y = updated_df.ViolentCrimesPerPop"
   ]
  },
  {
   "cell_type": "code",
   "execution_count": 63,
   "id": "e847aea9",
   "metadata": {},
   "outputs": [],
   "source": [
    "# Create training and test sets\n",
    "from sklearn.model_selection import train_test_split\n",
    "X_train, X_test, y_train, y_test = train_test_split(X, \n",
    "                                                    y, \n",
    "                                                    test_size=0.2, \n",
    "                                                    random_state=42) # set random state for reproducible splits"
   ]
  },
  {
   "cell_type": "code",
   "execution_count": null,
   "id": "3703477e",
   "metadata": {},
   "outputs": [],
   "source": [
    "# Set random seed\n",
    "tf.random.set_seed(42)\n",
    "\n",
    "dnn_model = tf.keras.Sequential([\n",
    "  tf.keras.layers.Dense(10), \n",
    "  tf.keras.layers.Dense(1) # output layer\n",
    "])\n",
    "\n",
    "# Compile the model\n",
    "dnn_model.compile(loss=tf.keras.losses.mae,\n",
    "                          optimizer=tf.keras.optimizers.Adam(), # Adam works but SGD doesn't \n",
    "                          metrics=['mae'])\n",
    "\n",
    "# Fit the model and save the history (we can plot this)\n",
    "history = dnn_model.fit(X_train, y_train, epochs=500, verbose=0)"
   ]
  },
  {
   "cell_type": "code",
   "execution_count": null,
   "id": "ee954efd",
   "metadata": {},
   "outputs": [],
   "source": [
    "dnn_model.evaluate(X_test, y_test)"
   ]
  },
  {
   "cell_type": "code",
   "execution_count": null,
   "id": "508645c2",
   "metadata": {},
   "outputs": [],
   "source": [
    "pd.DataFrame(history.history).plot()\n",
    "plt.ylabel(\"loss\")\n",
    "plt.xlabel(\"epochs\");\n"
   ]
  },
  {
   "cell_type": "code",
   "execution_count": null,
   "id": "0c0e512b",
   "metadata": {},
   "outputs": [],
   "source": []
  }
 ],
 "metadata": {
  "kernelspec": {
   "display_name": "Python 3 (ipykernel)",
   "language": "python",
   "name": "python3"
  },
  "language_info": {
   "codemirror_mode": {
    "name": "ipython",
    "version": 3
   },
   "file_extension": ".py",
   "mimetype": "text/x-python",
   "name": "python",
   "nbconvert_exporter": "python",
   "pygments_lexer": "ipython3",
   "version": "3.10.4"
  }
 },
 "nbformat": 4,
 "nbformat_minor": 5
}
