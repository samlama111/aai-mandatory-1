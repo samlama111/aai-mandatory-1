{
 "cells": [
  {
   "cell_type": "code",
   "execution_count": 46,
   "id": "70b9969c",
   "metadata": {},
   "outputs": [],
   "source": [
    "import pandas as pd"
   ]
  },
  {
   "cell_type": "code",
   "execution_count": 47,
   "id": "83fb7cf9",
   "metadata": {},
   "outputs": [
    {
     "data": {
      "text/plain": [
       "Index(['communityName', 'state', 'countyCode', 'communityCode', 'population',\n",
       "       'householdsize', 'racepctblack', 'racePctWhite', 'racePctAsian',\n",
       "       'racePctHisp',\n",
       "       ...\n",
       "       'burglaries', 'burglPerPop', 'larcenies', 'larcPerPop', 'autoTheft',\n",
       "       'autoTheftPerPop', 'arsons', 'arsonsPerPop', 'ViolentCrimesPerPop',\n",
       "       'nonViolPerPop'],\n",
       "      dtype='object', length=146)"
      ]
     },
     "execution_count": 47,
     "metadata": {},
     "output_type": "execute_result"
    }
   ],
   "source": [
    "df = pd.read_csv('crimedata.csv')\n",
    "df.columns"
   ]
  },
  {
   "cell_type": "markdown",
   "id": "7ab1dc9a",
   "metadata": {},
   "source": [
    "We need to handle the data, as some columns are missing values. For countyCode and communityCode we will replace these values with zero. For the other columns we will work with, we will replace their missing value by the rounded median of these values. "
   ]
  },
  {
   "cell_type": "code",
   "execution_count": 48,
   "id": "991b1b24",
   "metadata": {},
   "outputs": [],
   "source": [
    "feature_names = [\"population\", \"householdsize\", \"racePctWhite\", \"PctPopUnderPov\", \"PctUnemployed\", \"PolicOperBudg\"]\n",
    "updated_df = df.dropna(subset=['PolicOperBudg', 'ViolentCrimesPerPop'])\n",
    "\n",
    "X = updated_df[feature_names]\n",
    "y = updated_df.ViolentCrimesPerPop"
   ]
  },
  {
   "cell_type": "code",
   "execution_count": 49,
   "id": "5c704196",
   "metadata": {},
   "outputs": [
    {
     "name": "stdout",
     "output_type": "stream",
     "text": [
      "         population  householdsize  racePctWhite  PctPopUnderPov  \\\n",
      "count  3.190000e+02     319.000000    319.000000      319.000000   \n",
      "mean   1.919145e+05       2.629028     72.563292       15.153166   \n",
      "std    4.798622e+05       0.296868     18.030164        7.369609   \n",
      "min    1.074700e+04       1.880000      7.210000        2.270000   \n",
      "25%    6.140600e+04       2.460000     62.185000        9.080000   \n",
      "50%    9.444000e+04       2.590000     75.510000       15.320000   \n",
      "75%    1.675830e+05       2.740000     87.115000       19.485000   \n",
      "max    7.322564e+06       4.100000     98.230000       43.860000   \n",
      "\n",
      "       PctUnemployed  PolicOperBudg  \n",
      "count     319.000000   3.190000e+02  \n",
      "mean        7.060972   2.896217e+07  \n",
      "std         2.522005   9.899444e+07  \n",
      "min         2.110000   2.380215e+06  \n",
      "25%         5.305000   7.247164e+06  \n",
      "50%         6.580000   1.075497e+07  \n",
      "75%         8.610000   2.047340e+07  \n",
      "max        16.600000   1.617293e+09  \n"
     ]
    }
   ],
   "source": [
    "print(X.describe())"
   ]
  },
  {
   "cell_type": "code",
   "execution_count": 50,
   "id": "eb19bdb5",
   "metadata": {},
   "outputs": [
    {
     "name": "stdout",
     "output_type": "stream",
     "text": [
      "9     1544.24\n",
      "13    1476.93\n",
      "17     374.07\n",
      "19     772.77\n",
      "21    2097.71\n",
      "Name: ViolentCrimesPerPop, dtype: float64\n"
     ]
    }
   ],
   "source": [
    "print(y.head())"
   ]
  },
  {
   "cell_type": "code",
   "execution_count": 51,
   "id": "63f01ba6",
   "metadata": {},
   "outputs": [
    {
     "data": {
      "text/html": [
       "<style>#sk-container-id-2 {color: black;background-color: white;}#sk-container-id-2 pre{padding: 0;}#sk-container-id-2 div.sk-toggleable {background-color: white;}#sk-container-id-2 label.sk-toggleable__label {cursor: pointer;display: block;width: 100%;margin-bottom: 0;padding: 0.3em;box-sizing: border-box;text-align: center;}#sk-container-id-2 label.sk-toggleable__label-arrow:before {content: \"▸\";float: left;margin-right: 0.25em;color: #696969;}#sk-container-id-2 label.sk-toggleable__label-arrow:hover:before {color: black;}#sk-container-id-2 div.sk-estimator:hover label.sk-toggleable__label-arrow:before {color: black;}#sk-container-id-2 div.sk-toggleable__content {max-height: 0;max-width: 0;overflow: hidden;text-align: left;background-color: #f0f8ff;}#sk-container-id-2 div.sk-toggleable__content pre {margin: 0.2em;color: black;border-radius: 0.25em;background-color: #f0f8ff;}#sk-container-id-2 input.sk-toggleable__control:checked~div.sk-toggleable__content {max-height: 200px;max-width: 100%;overflow: auto;}#sk-container-id-2 input.sk-toggleable__control:checked~label.sk-toggleable__label-arrow:before {content: \"▾\";}#sk-container-id-2 div.sk-estimator input.sk-toggleable__control:checked~label.sk-toggleable__label {background-color: #d4ebff;}#sk-container-id-2 div.sk-label input.sk-toggleable__control:checked~label.sk-toggleable__label {background-color: #d4ebff;}#sk-container-id-2 input.sk-hidden--visually {border: 0;clip: rect(1px 1px 1px 1px);clip: rect(1px, 1px, 1px, 1px);height: 1px;margin: -1px;overflow: hidden;padding: 0;position: absolute;width: 1px;}#sk-container-id-2 div.sk-estimator {font-family: monospace;background-color: #f0f8ff;border: 1px dotted black;border-radius: 0.25em;box-sizing: border-box;margin-bottom: 0.5em;}#sk-container-id-2 div.sk-estimator:hover {background-color: #d4ebff;}#sk-container-id-2 div.sk-parallel-item::after {content: \"\";width: 100%;border-bottom: 1px solid gray;flex-grow: 1;}#sk-container-id-2 div.sk-label:hover label.sk-toggleable__label {background-color: #d4ebff;}#sk-container-id-2 div.sk-serial::before {content: \"\";position: absolute;border-left: 1px solid gray;box-sizing: border-box;top: 0;bottom: 0;left: 50%;z-index: 0;}#sk-container-id-2 div.sk-serial {display: flex;flex-direction: column;align-items: center;background-color: white;padding-right: 0.2em;padding-left: 0.2em;position: relative;}#sk-container-id-2 div.sk-item {position: relative;z-index: 1;}#sk-container-id-2 div.sk-parallel {display: flex;align-items: stretch;justify-content: center;background-color: white;position: relative;}#sk-container-id-2 div.sk-item::before, #sk-container-id-2 div.sk-parallel-item::before {content: \"\";position: absolute;border-left: 1px solid gray;box-sizing: border-box;top: 0;bottom: 0;left: 50%;z-index: -1;}#sk-container-id-2 div.sk-parallel-item {display: flex;flex-direction: column;z-index: 1;position: relative;background-color: white;}#sk-container-id-2 div.sk-parallel-item:first-child::after {align-self: flex-end;width: 50%;}#sk-container-id-2 div.sk-parallel-item:last-child::after {align-self: flex-start;width: 50%;}#sk-container-id-2 div.sk-parallel-item:only-child::after {width: 0;}#sk-container-id-2 div.sk-dashed-wrapped {border: 1px dashed gray;margin: 0 0.4em 0.5em 0.4em;box-sizing: border-box;padding-bottom: 0.4em;background-color: white;}#sk-container-id-2 div.sk-label label {font-family: monospace;font-weight: bold;display: inline-block;line-height: 1.2em;}#sk-container-id-2 div.sk-label-container {text-align: center;}#sk-container-id-2 div.sk-container {/* jupyter's `normalize.less` sets `[hidden] { display: none; }` but bootstrap.min.css set `[hidden] { display: none !important; }` so we also need the `!important` here to be able to override the default hidden behavior on the sphinx rendered scikit-learn.org. See: https://github.com/scikit-learn/scikit-learn/issues/21755 */display: inline-block !important;position: relative;}#sk-container-id-2 div.sk-text-repr-fallback {display: none;}</style><div id=\"sk-container-id-2\" class=\"sk-top-container\"><div class=\"sk-text-repr-fallback\"><pre>DecisionTreeRegressor(random_state=1)</pre><b>In a Jupyter environment, please rerun this cell to show the HTML representation or trust the notebook. <br />On GitHub, the HTML representation is unable to render, please try loading this page with nbviewer.org.</b></div><div class=\"sk-container\" hidden><div class=\"sk-item\"><div class=\"sk-estimator sk-toggleable\"><input class=\"sk-toggleable__control sk-hidden--visually\" id=\"sk-estimator-id-2\" type=\"checkbox\" checked><label for=\"sk-estimator-id-2\" class=\"sk-toggleable__label sk-toggleable__label-arrow\">DecisionTreeRegressor</label><div class=\"sk-toggleable__content\"><pre>DecisionTreeRegressor(random_state=1)</pre></div></div></div></div></div>"
      ],
      "text/plain": [
       "DecisionTreeRegressor(random_state=1)"
      ]
     },
     "execution_count": 51,
     "metadata": {},
     "output_type": "execute_result"
    }
   ],
   "source": [
    "from sklearn.tree import DecisionTreeRegressor\n",
    "#specify the model. \n",
    "#For model reproducibility, set a numeric value for random_state when specifying the model\n",
    "iowa_model = DecisionTreeRegressor(random_state = 1)\n",
    "\n",
    "# Fit the model\n",
    "iowa_model.fit(X,y)"
   ]
  },
  {
   "cell_type": "code",
   "execution_count": 52,
   "id": "5e2aaae1",
   "metadata": {},
   "outputs": [
    {
     "name": "stdout",
     "output_type": "stream",
     "text": [
      "[1544.24 1476.93  374.07  772.77 2097.71  689.42  512.19 1087.25  984.96\n",
      " 1279.6   753.42  566.64 1693.42  969.6  1841.38  620.53 2127.02 1981.45\n",
      " 1497.92 2414.77  795.08  871.02 1501.93 3235.45 1744.19 1195.53 3239.2\n",
      "  448.84 1631.98  294.6  1389.87  530.57  136.48  488.86  687.49 1185.33\n",
      "  266.81  458.28  874.69  797.66 1756.32 2105.73 1933.77 1363.32 1846.45\n",
      " 2541.38  987.42   52.25 1290.43 1523.3   288.4   387.2   509.18 1093.15\n",
      " 2423.47  772.3  1810.07  332.   1651.73  770.88 1038.27 1073.8   875.19\n",
      "  889.17  845.63  423.52  152.07 1968.89  321.68 1311.2  1571.14  223.06\n",
      " 2978.69 2078.85  435.6  1304.78  223.14 1627.33 3255.71  736.68  581.98\n",
      " 2264.09 1818.82 1424.74 1629.43  366.34 1035.05  321.08 3047.66 1171.84\n",
      "  230.   1274.62 1565.55  842.7  3530.78 1318.6   599.78  141.06  578.8\n",
      " 2460.11  737.62  360.34  646.17 3414.57 1787.2  1960.67 2038.98  893.29\n",
      "  514.99 1076.95 2186.47 2109.96  265.95 1118.78  572.76  984.34  985.62\n",
      "  728.32 3081.26  739.5   373.88 2169.92 1633.81 1644.35  541.74  320.3\n",
      "  581.49 1214.45  433.21  225.99 1280.74  719.23  455.92 3834.1   872.98\n",
      "  401.73  869.6   125.54  441.08 1418.55  953.67  530.44  681.43 2154.96\n",
      " 1395.22  556.4    54.99  999.13 1283.7   121.07  673.11  500.94  412.91\n",
      " 1562.48 1014.86  820.1   845.51 1202.99  643.52  902.54 1315.31 2304.49\n",
      " 1033.4  2601.6  2082.86  639.59 1432.56  974.37 1183.14 3928.03 2941.62\n",
      "  577.28  390.93  916.52 1020.91  241.21  199.45  249.58  611.05  166.71\n",
      "  974.36  643.24  177.06  833.29 1135.5  2466.68 1908.96  536.08  779.72\n",
      "  845.39  297.32  475.46 1517.44  555.18 1224.   1203.87  208.56  563.33\n",
      " 1811.81  179.92 1956.24 1019.98 2124.14 1162.84  672.57  537.64 2572.91\n",
      "  415.11 1617.17  409.11  852.74 1075.77  534.46 2288.32 1807.31  566.06\n",
      " 1849.26  143.94 1118.18 1102.6   455.62 1250.99  384.07  966.16  483.47\n",
      " 2065.29 3048.38  440.66 1625.6  4026.59 1432.64 1160.86  887.01 1155.27\n",
      "  332.86  487.27 1764.17  408.3   978.02  798.57  473.71  463.84  778.93\n",
      " 1681.08 2017.65  811.92 1421.42  303.7  1440.54 1275.11  284.04  513.\n",
      "  813.57 1756.74  659.56  150.18  822.7  1262.47  205.68 2682.28  530.22\n",
      "  671.46  616.67 1564.23  493.93 3829.21 1595.37 1576.9   249.62 1622.96\n",
      "  251.6   457.27 1343.3   661.25  792.93 1573.82  502.05 1636.75  568.75\n",
      " 2089.28  430.31  430.93 1368.23 1308.07  860.21 1219.94 1448.54  591.12\n",
      " 1141.93  491.18 1981.89 1291.41   84.54  861.57 1682.47 1678.54 1684.94\n",
      "  482.97 1091.39  236.43  517.18  817.33  214.51  286.27 1097.07  208.93\n",
      " 1026.28 2678.55  952.59  234.82  272.13 1399.84 1538.83 1248.05 1691.21\n",
      "  228.53 1246.89  640.62  285.73]\n"
     ]
    }
   ],
   "source": [
    "predictions = iowa_model.predict(X)\n",
    "print(predictions)"
   ]
  },
  {
   "cell_type": "code",
   "execution_count": 44,
   "id": "3941c199",
   "metadata": {},
   "outputs": [
    {
     "data": {
      "text/plain": [
       "0.0"
      ]
     },
     "execution_count": 44,
     "metadata": {},
     "output_type": "execute_result"
    }
   ],
   "source": [
    "from sklearn.metrics import mean_absolute_error\n",
    "\n",
    "predictions = iowa_model.predict(X)\n",
    "mean_absolute_error(y, predictions)"
   ]
  },
  {
   "cell_type": "code",
   "execution_count": 45,
   "id": "814f0756",
   "metadata": {},
   "outputs": [
    {
     "name": "stdout",
     "output_type": "stream",
     "text": [
      "557.389375\n"
     ]
    }
   ],
   "source": [
    "from sklearn.model_selection import train_test_split\n",
    "\n",
    "# split data into training and validation data, for both features and target\n",
    "# The split is based on a random number generator. Supplying a numeric value to\n",
    "# the random_state argument guarantees we get the same split every time we\n",
    "# run this script.\n",
    "train_X, val_X, train_y, val_y = train_test_split(X, y, random_state = 0)\n",
    "# Define model\n",
    "crime_model = DecisionTreeRegressor()\n",
    "# Fit model\n",
    "crime_model.fit(train_X, train_y)\n",
    "\n",
    "# get predicted prices on validation data\n",
    "val_predictions = crime_model.predict(val_X)\n",
    "print(mean_absolute_error(val_y, val_predictions))"
   ]
  },
  {
   "cell_type": "code",
   "execution_count": null,
   "id": "8a9224a7",
   "metadata": {},
   "outputs": [],
   "source": []
  }
 ],
 "metadata": {
  "kernelspec": {
   "display_name": "Python 3 (ipykernel)",
   "language": "python",
   "name": "python3"
  },
  "language_info": {
   "codemirror_mode": {
    "name": "ipython",
    "version": 3
   },
   "file_extension": ".py",
   "mimetype": "text/x-python",
   "name": "python",
   "nbconvert_exporter": "python",
   "pygments_lexer": "ipython3",
   "version": "3.10.4"
  },
  "vscode": {
   "interpreter": {
    "hash": "8ed920e2ddf8d9b834073b6ca6a960a53533c6a95cf0bbb4a61c5730c9249576"
   }
  }
 },
 "nbformat": 4,
 "nbformat_minor": 5
}
